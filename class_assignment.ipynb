{
  "nbformat": 4,
  "nbformat_minor": 0,
  "metadata": {
    "colab": {
      "provenance": [],
      "authorship_tag": "ABX9TyNYJi0ZMsCLziMT6VlaT907"
    },
    "kernelspec": {
      "name": "python3",
      "display_name": "Python 3"
    },
    "language_info": {
      "name": "python"
    }
  },
  "cells": [
    {
      "cell_type": "markdown",
      "source": [
        "# ***UNIVERSITY MANAGEMENT SYSTEM***"
      ],
      "metadata": {
        "id": "_4Bm0C2VwS_I"
      }
    },
    {
      "cell_type": "code",
      "execution_count": 5,
      "metadata": {
        "id": "0HP-lNnmwQLa",
        "colab": {
          "base_uri": "https://localhost:8080/"
        },
        "outputId": "9c1572e8-1712-40f0-87ba-b13e1844a94d"
      },
      "outputs": [
        {
          "output_type": "stream",
          "name": "stdout",
          "text": [
            "📚 Department: Computer Science\n",
            "\n",
            "🔸 Course: Python Programming\n",
            "👨‍🏫 Instructors:\n",
            " - Hamza Syed (Salary: 150000)\n",
            "👨‍🎓 Students:\n",
            " - Abdul Rahman (Roll#: GIAIC345)\n",
            " - Ahmed (Roll#: GIAIC347)\n",
            "\n",
            "🔸 Course: Agentic AI\n",
            "👨‍🏫 Instructors:\n",
            " - Zia Khan (Salary: 300000)\n",
            "👨‍🎓 Students:\n",
            " - Ali (Roll#: GIAIC346)\n",
            " - Ahsan (Roll#: GIAIC348)\n"
          ]
        }
      ],
      "source": [
        "class Person:\n",
        "  def __init__(self, name, age):\n",
        "    self.name = name\n",
        "    self.age = age\n",
        "  def get_details(self):\n",
        "    print(f\"Name: {self.name}\\nAge: {self.age}\")\n",
        "\n",
        "class Student(Person):\n",
        "  def __init__(self, name, age, roll_number):\n",
        "    super().__init__(name, age)\n",
        "    self.roll_number: str = roll_number\n",
        "    self.courses: list[str] = []\n",
        "\n",
        "  def register_for_course(self, course):\n",
        "    self.courses.append(course)\n",
        "\n",
        "class Instructor(Person):\n",
        "  def __init__(self, name, age, salary, courses):\n",
        "    super().__init__(name, age)\n",
        "    self.salary = salary\n",
        "    self.courses = courses\n",
        "\n",
        "  def assign_course(self, course):\n",
        "    self.courses.append(course)\n",
        "\n",
        "class Course:\n",
        "  def __init__(self, name):\n",
        "    self.name = name\n",
        "    self.students: list[Student] = []\n",
        "    self.instructor: list[Instructor] = []\n",
        "\n",
        "  def add_student(self, student):\n",
        "    self.students.append(student)\n",
        "\n",
        "  def set_instructor(self, instructor):\n",
        "    self.instructor.append(instructor)\n",
        "\n",
        "class Department:\n",
        "  def __init__(self, name):\n",
        "    self.name = name\n",
        "    self.courses: list[Course] = []\n",
        "\n",
        "  def add_course(self, course):\n",
        "    self.courses.append(course)\n",
        "\n",
        "d1 = Department(\"Computer Science\")\n",
        "\n",
        "c1 = Course(\"Python Programming\")\n",
        "c2 = Course(\"Agentic AI\")\n",
        "\n",
        "inst1 = Instructor(\"Hamza Syed\", 25, 150000, [])\n",
        "inst1.assign_course(c1)\n",
        "c1.set_instructor(inst1)\n",
        "\n",
        "ins2 = Instructor(\"Zia Khan\", 55, 300000, [])\n",
        "ins2.assign_course(c2)\n",
        "c2.set_instructor(ins2)\n",
        "\n",
        "student1 = Student(\"Abdul Rahman\", 21, \"GIAIC345\")\n",
        "student1.register_for_course(c1)\n",
        "c1.add_student(student1)\n",
        "\n",
        "student2 = Student(\"Ali\", 23, \"GIAIC346\")\n",
        "student2.register_for_course(c2)\n",
        "c2.add_student(student2)\n",
        "\n",
        "student3 = Student(\"Ahmed\", 22, \"GIAIC347\")\n",
        "student3.register_for_course(c1)\n",
        "c1.add_student(student3)\n",
        "\n",
        "student4 = Student(\"Ahsan\", 20, \"GIAIC348\")\n",
        "student4.register_for_course(c2)\n",
        "c2.add_student(student4)\n",
        "\n",
        "d1.add_course(c1)\n",
        "d1.add_course(c2)\n",
        "\n",
        "# 🔹 Display Complete Structure\n",
        "print(f\"📚 Department: {d1.name}\")\n",
        "for course in d1.courses:\n",
        "    print(f\"\\n🔸 Course: {course.name}\")\n",
        "    print(\"👨‍🏫 Instructors:\")\n",
        "    for inst in course.instructor:\n",
        "        print(f\" - {inst.name} (Salary: {inst.salary})\")\n",
        "    print(\"👨‍🎓 Students:\")\n",
        "    for stu in course.students:\n",
        "        print(f\" - {stu.name} (Roll#: {stu.roll_number})\")"
      ]
    }
  ]
}